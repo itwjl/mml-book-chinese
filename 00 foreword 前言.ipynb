{
 "cells": [
  {
   "cell_type": "markdown",
   "id": "534e7246",
   "metadata": {},
   "source": [
    "<center><font size='5'> Foreword</font></center>\n",
    "<center><font size='5'>前言</font></center>"
   ]
  },
  {
   "cell_type": "markdown",
   "id": "a5e37b9b",
   "metadata": {},
   "source": [
    "Machine learning is the latest in a long line of attempts to distill human knowledge and reasoning into a form that is suitable for constructing machines and engineering automated systems. As machine learning becomes more ubiquitous and its software packages become easier to use, it is natural and desirable that the low-level technical details are abstracted away ad hidden from the practitioner. However, this brings with it the danger that a practitioner becomes unaware of the design decisions and, hence, the limits of machine learning algorithms."
   ]
  },
  {
   "cell_type": "markdown",
   "id": "9487a6ad",
   "metadata": {},
   "source": [
    "机器学习是将人类知识和推理提炼成合适构建机器和工程自动化系统的形式的长期尝试中的最新成果。随着机器学习变得越来越普遍，其软件包也越来越易于使用，低级技术细节被抽象出来并向从业者隐藏起来是自然而可取的。然而，这带来了从业者不知道设计决策的危险，因此，也不知道机器学习算法的局限性。"
   ]
  },
  {
   "cell_type": "markdown",
   "id": "b68ec06b",
   "metadata": {},
   "source": [
    "The enthusiastic practitioner who is interested to learn more about the magic behind successful machine learning algorithms currently faces a daunting set of pre-requisite knowledge:\n",
    "  - Programming laguages and data analysis tools\n",
    "  - Large-scale computation and the associated frameworks\n",
    "  - Mathematics and statistics and how machine learning build on it"
   ]
  },
  {
   "cell_type": "markdown",
   "id": "5b53354d",
   "metadata": {},
   "source": [
    "有兴趣了解更多关于成功的机器学习算法背后的魔力的热心从业者目前面临着一组令人生畏的先决知识：\n",
    "  - 编程语言和数据分析工具\n",
    "  - 大规模计算及相关框架\n",
    "  - 数学和统计学以及机器学习如何建立在它的基础上"
   ]
  },
  {
   "cell_type": "markdown",
   "id": "d77ffd2d",
   "metadata": {},
   "source": [
    "At universities, introductory courses on machine learning tend to spend early parts of the course covering some of these pre-requisites. For historical reasons, course in machine learning tend to be taught in the computer science department, there students are often trained in the first two areas of knowledge, but not so much in mathematics and statistics."
   ]
  },
  {
   "cell_type": "markdown",
   "id": "9bf5cd63",
   "metadata": {},
   "source": [
    "在大学里，机器学习的入门课程往往会在课程的早期部分涵盖其中一些先决条件。由于历史原因，机器学习课程往往在计算机科学系教授，学生通常在前两个知识领域接受培训，但在数学和统计学方面的培训较少。"
   ]
  },
  {
   "cell_type": "markdown",
   "id": "eeedeee1",
   "metadata": {},
   "source": [
    "Current machine learning textbooks primarily forcus on machine learning algorithms and methodologies and assume that the reader is competent in mathematics and statistics. Therefore, these books only spend one or two chapters on background mathematics, either at the beginning of the book or as appendices. We have found many people who want to delve into the founfations of basic machine learning methods who struggle with the mathematical knowledge required to read a machine learning textbook. Having taught undergraduate and graduate courses at universities, we find that the gap between high school mathematics and the mathematics level required to read a standard machine learing textbook is too big for many people."
   ]
  },
  {
   "cell_type": "markdown",
   "id": "f95042cf",
   "metadata": {},
   "source": [
    "当前的机器学习教科书主要侧重于机器学习算法和方法，并假设读者具有数学和统计学能力。因此，这些书只用一到两章来介绍数学背景，要么放在书的开头，要么作为附录。我们发现许多想要深入研究基础机器学习的人都在努力学习阅读机器学习教科书所需的数学知识。在大学教授本科和研究生的课程后，我们发现高中数学与阅读标准机器学习教科书所需的数学水平之间的差距对许多人来说太大了。"
   ]
  },
  {
   "cell_type": "markdown",
   "id": "6b9bdbd7",
   "metadata": {},
   "source": [
    "This book brings the mathematical foundations of basic machine learning concepts to the fore and collects the information in a single place so that this skills gap is narrowed or even closed.  "
   ]
  },
  {
   "cell_type": "markdown",
   "id": "a8f49ace",
   "metadata": {},
   "source": [
    "本书突出了机器学习基本概念的数学基础，并将信息收集在一个地方，从而缩小甚至消除这种技能的差距。"
   ]
  },
  {
   "cell_type": "markdown",
   "id": "6135a73a",
   "metadata": {},
   "source": [
    "$$ Why\\;Another\\;Book\\;on\\;Machine\\;Learning? $$\n",
    "$$ 为什么要写另一本关于机器学习的书? $$"
   ]
  },
  {
   "cell_type": "markdown",
   "id": "be944336",
   "metadata": {},
   "source": [
    "Machine learning builds upon the language of mathematics to express concepts that seem intuitively obvious but that are surprisingly diffcult to formalize. Once formalized properly, we can gain insights into the task we want to solve. One common complaint of students of mathematics around the globe is that the topic covered seem to have little relevance to practical problems. We believe that machine learning is an obvious and direct motivation for people to learn mathematics."
   ]
  },
  {
   "cell_type": "markdown",
   "id": "46dc85e7",
   "metadata": {},
   "source": [
    "机器学习建立在数学语言的基础上，以表达直观上显而易见但难以形式化的概念。一旦适当地形式化，我们就可以深入了解我们想要解决的任务。全球数学学生的一个普遍抱怨是，所涵盖的主题似乎与实际问题无关。我们认为机器学习是人们学习数学的明显而直接的动力。"
   ]
  },
  {
   "cell_type": "markdown",
   "id": "90121790",
   "metadata": {},
   "source": [
    "This book is intended to be a guidebook to the vast mathematical literature that forms the foundations of modern machine learning. We motivate the need for mathematical concepts by directly pointing out their usefulness in the context of fundamental machine learning problems. In the interest of keeping the book short, many details and more advanced concepts have been left out. Equipped with the basic concepts presented here, and how they fit into the larger context of machine learning, the reader can find numerous resources for further study, which we provide at the end of the respective chapters. For readers with a mathematical background, this book provides a brief but precisely stated glimpse of machine learning. In contrast to other books that focus on methods and models of machine learning (MacKay, 2003; Bishop, 2006; Alpaydin, 2010; Barber, 2012;Murphy, 2012; Shalev-Shwartz and Ben-David, 2014; Rogers and Guido, 2016) or programmatic aspects of machine learning (Müller and Fuido, 2016;Rascka and Mirjalili 2017; Chollet and Allaire, 2018) we provide only four representative examples of machine learning algorithms. Instead, we focus on the mathmatical concepts behind the models themselves. We hope that readers will be able to gain a deeper understanding of the basic questions in machine learning and connect practical questions arising from the use of machine learning with fundamental choices in the mathematical model."
   ]
  },
  {
   "cell_type": "markdown",
   "id": "6f185860",
   "metadata": {},
   "source": [
    "本书旨在成为构成现代机器学习的基础的大量数学文献的指南。我们通过直接指出它们在基本机器学习问题的背景下的有用性来激发对数学概念的需求。为了使本书简短，省略了许多细节和更高的概念。了解了这里介绍的基本概念，以及他们如何适应更大的机器学习背景，读者可以找到大量资源进行进一步的研究，我们在各章末尾提供了这些资源。对于具有数学背景的读者，本书提供了对机器学习的简要但准确表述的一瞥。与其他专注于机器学习方法和模型的数据相比(MacKay, 2003; Bishop, 2006; Alpaydin, 2010; Barber, 2012;Murphy, 2012; Shalev-Shwartz and Ben-David, 2014; Rogers and Guido, 2016)或机器学习的程序方面 (Müller and Fuido, 2016;Rascka and Mirjalili 2017; Chollet and Allaire, 2018), 我们仅提供机器学习算法的四个代表性示例。相反，我们专注于模型本身背后的数学概念。我们希望读者能够更深入地理解机器学习中的基本问题，并将机器学习使用中出现的实际问题与数学模型中的基本选择联系起来。"
   ]
  },
  {
   "cell_type": "markdown",
   "id": "48a116e4",
   "metadata": {},
   "source": [
    "We do not aim to write a classical machine learning book. Instead, our intention is to provide the mathematical background, applied to four central machine learning problems, to make it easier to read other machine learning textbooks."
   ]
  },
  {
   "cell_type": "markdown",
   "id": "b7aa1ffe",
   "metadata": {},
   "source": [
    "我们的目标不是写一本经典的机器学习书籍。相反，我们的目的是提供用于四个主要机器学习问题的数学背景，以便更容易阅读其他机器学习教科书。"
   ]
  },
  {
   "cell_type": "markdown",
   "id": "a81d1ff6",
   "metadata": {},
   "source": [
    "$$Who\\;Is\\;the\\;Target\\;Audience?$$\n",
    "$$谁是目标受众？$$"
   ]
  },
  {
   "cell_type": "markdown",
   "id": "6873c1c4",
   "metadata": {},
   "source": [
    "As applications of machine learning become widespread in society, we believe that everybody should have some understanding of its underlying principles. This book is written in an academic mathematical style, which enables us to be precise about the concepts behind machine learning. We encourage readers unfamiliar with this seemingly terse style to persevere and to keep the goals of each topic in mind. We sprinkle comments and remarks throughout the text, in the hope that it provides useful guidance with respect to the big picture."
   ]
  },
  {
   "cell_type": "markdown",
   "id": "e5bdfada",
   "metadata": {},
   "source": [
    "随着机器学习在社会上的广泛应用，我们认为每个人都应该对其基本原理有所了解。本书以学术数学风格编写，使我们能够准确了解机器学习背后的概念。我们鼓励不熟悉这种看似简洁的风格的读者坚持下去，并牢记每个主题的目标。我们在全文中加入了评论和备注，希望它能够提供有关大局的有用指导。"
   ]
  },
  {
   "cell_type": "markdown",
   "id": "c2361ad8",
   "metadata": {},
   "source": [
    "*The book assumes the reader to have mathematical konwledge commonly covered in high shool mathematics and physics.* For example, the reader should have seen derivatives and integrals before, and geometric vectors in two or three dimensions. Starting from there, we generalize these concepts. Therefore, the target audience of the book includes undergraduate university students, evening learners and learnings participating in online machine learning courses."
   ]
  },
  {
   "cell_type": "markdown",
   "id": "7565570c",
   "metadata": {},
   "source": [
    "本书假定读者具有普遍的数学知识，包括高中数学和物理。例如，读者以前看过导数和积分，以及二维或者三维的几何向量。从那里开始，我们概括了这些概念。因此，本书的目标读者包括大学生、晚间学习者和参加在线学习课程的学习者。"
   ]
  },
  {
   "cell_type": "markdown",
   "id": "e34638dd",
   "metadata": {},
   "source": [
    "In analogy to music, there are three types of interaction that people have with machine learning:"
   ]
  },
  {
   "cell_type": "markdown",
   "id": "18684ec7",
   "metadata": {},
   "source": [
    "与音乐类比，人们与机器学习有三种交互方式："
   ]
  },
  {
   "cell_type": "markdown",
   "id": "2e717719",
   "metadata": {},
   "source": [
    "**Astute Listener**  The democratization of machine learning by the provision of open-source software, online tutorials and cloud-based tools allows users to not worry about the specifics of pipelines. Users can focus on extracting insights from data using off-the-shelf tools. This enables nonteach-savvy domain experts to benefit from machine learning. This is similar to listening to music; the user is able to choose and discern between different types of machine learning, and benefits from it. More experienced users are like music critice, asking important questions about the application of machine learning in society such as ethics, fairness, and privacy of the individual. We hope that this book provides a foundation for thinking about the certification and risk management of machine learning systems, and allows them to use their domain experties to build better machine learning systems."
   ]
  },
  {
   "cell_type": "markdown",
   "id": "89e238a6",
   "metadata": {},
   "source": [
    "**敏锐的聆听者** 通过提供开源软件、在线教程和基于云的工具，机器学习的民主化让用户不用担心管道的细节。用户可以专注于使用现成的工具从数据中提取见解。这使得不懂技术的领域专家能够从机器学习中受益。这类似于听音乐；用户能够在不同的机器学习之间进行选择和辨别，并从中受益。更多有经验的用户就像音乐评论家一样，提出有关机器学习在社会中的应用的重要问题，例如道德、公平和个人隐私。我们希望本书能为思考机器学习系统的认证的风险管理提供一个基础，并允许他们利用自己的领域专业知识来构建更好的机器学习系统。"
   ]
  },
  {
   "cell_type": "markdown",
   "id": "b1cb7ef3",
   "metadata": {},
   "source": [
    "**Experienced Artist** Skilled practitioners of machine learning can plug and play different tools and libraries into an analysis pipeline. The stereotypical practitioner would be a data scientist or engineer who understands machine learning interfaces and their use cases, and is able to perform wonderful feats of prediction from data. This is similar to a virtuoso playing music, where highly skilled practitioners can bring existing instruments to life and bring enjoyment to their audience. Using the mathematics presented here as a primer, practitioners would be able to understand the benefits and limits of their favorite method, and to extend and generalize existing machine learning algorithms. We hope that this book provides the impetus for more rigorous and principled development of machine learning methods."
   ]
  },
  {
   "cell_type": "markdown",
   "id": "7773264f",
   "metadata": {},
   "source": [
    "**经验丰富的艺术家** 机器学习的熟练从业者可以将不同的工具和库插入并运行到分析管道中。立体典型的从业者是数据科学家或工程师，他们了解机器学习接口及其用例，并且能够根据数据进行出色的预测。这类似于演奏音乐的演奏家，技艺高超的演奏者可以将现有的乐器带入生活并为听众带来乐趣。使用此处介绍的数学作为入门，从业者将能够了解他们最喜欢的方式的优点和局限性，并扩展可推广现有的机器学习算法。我们希望本书能为机器学习方法的更严格和更有原则的发展提供动力。"
   ]
  },
  {
   "cell_type": "markdown",
   "id": "81be1432",
   "metadata": {},
   "source": [
    "**Fledgling Composer** As machine learning is applied to new domains, developers of machine learning need to develop new methods and extend existing algorithms. They are often researchers who need to understand the mathematical basis of machine learning and uncover relationships between different tasks. This is similar to composers of music who, within the rules and structure of musical theory, create new and amazing pieces. We hope this book provides a high-level overview of other technical books for people who want to become composers of machine learning. There is a great need in society for new researchers who are able to propose and explore novel approaches for attacking the many challenges of learning from data."
   ]
  },
  {
   "cell_type": "markdown",
   "id": "0aee3504",
   "metadata": {},
   "source": [
    "**初出茅庐的作曲家** 随着机器学习应用于新的领域，机器学习的开发者需要开发新的方法并扩展现有的算法。他们通常是需要了解机器学习的数学基础并揭示不同任务之间的关系的研究人员。这类似于音乐作曲家，他们在音乐理论的规则和结构内创作出令人惊叹的新作品。我们希望本书能为那些想成为机器学习作曲家的人提供其他技术书籍的高级概述。社会非常需要能够提出和探索新方法来应对从数据中学习的许多挑战的新研究人员。"
   ]
  },
  {
   "cell_type": "markdown",
   "id": "8dfef630",
   "metadata": {},
   "source": [
    "$$Acknowledgments$$\n",
    "$$致谢$$"
   ]
  },
  {
   "cell_type": "markdown",
   "id": "5e651bb1",
   "metadata": {},
   "source": [
    "We are greatful to many poeple who looked at early drafts of the book and suffered through painful expositions of concepts. We tried to implement their ideas that we did not vehemently disagree with. We would like to especially acknowledge Christfried Webers for his careful reading of many parts of the book, and his detailed suggestions on structure and presentation. Many friends and colleagues have also been kind enough to provide their time and energy on different versions of each chapter. We have been lucky to benefit from the generosity of the online community, who have suggested improvements via https://github.com, which greatly improved the book.  \n",
    "The following people have found bugs, proposed clarifications and suggested relevant literature, either via https://github.com or personal communication. Their names are sorted alphabetically."
   ]
  },
  {
   "cell_type": "markdown",
   "id": "dd4177f1",
   "metadata": {},
   "source": [
    "我们感谢许多看过本书早期草稿并经历过痛苦的概念阐述的人。我们试图实现他们的想法，我们并没有强烈反对。我们要特别感谢Christfriend Webers 仔细阅读了本书的许多部分，以及他对结构和介绍提出的详细建议。许多朋友和同事也非常友好地为每一章的不同版本提供了他们的时间和精力。我们很幸运能够受益于在线社区的慷慨，他们通过https://github.com 提出了改进建议，这大大改进了本书。  \n",
    "以下人员通过https://github.com 发现了错误，提出了澄清并建议了相关文献或个人通讯。他们的名字按字母顺序排序。"
   ]
  },
  {
   "cell_type": "markdown",
   "id": "a9aa6c33",
   "metadata": {},
   "source": [
    "We are also very grateful to Parameswaran Raman and the many anonymous reviewers, organized by Cambridge University Press, who read one or more chapters of earlier versions of the manuscript, and provided constructive criticism that led to considerable improvements. A special mention goes to Dinesh Singh Negi, our LATEX support, for detailed and prompt advice about LATEX-related issues. Last but not least, we are very grateful to our editor Lauren Cowles, who has been patiently guiding us through the gestation process of this book."
   ]
  },
  {
   "cell_type": "markdown",
   "id": "62d6793e",
   "metadata": {},
   "source": [
    "我们也非常感谢Parameswaran Raman和剑桥大学出版社组织许多匿名审稿人，他们阅读了手稿早期版本的一个或多个章节，并提供了建设性的批评，从而导致了相当大的改进。特别值得一提的是我们的LATEX支持人员Dinesh Singh Negi，他提供有关LATEX相关问题的详细而及时的建议。最后但同样重要的是，我们非常感谢我们的编辑Lauren Cowles，她在本书的酝酿过程中一直耐心地指导我们。"
   ]
  },
  {
   "cell_type": "markdown",
   "id": "8419f863",
   "metadata": {},
   "source": [
    " <font size='4'>点击跳转 [数学符号表](./Symbols.ipynb)</font>"
   ]
  }
 ],
 "metadata": {
  "kernelspec": {
   "display_name": "Python 3 (ipykernel)",
   "language": "python",
   "name": "python3"
  },
  "language_info": {
   "codemirror_mode": {
    "name": "ipython",
    "version": 3
   },
   "file_extension": ".py",
   "mimetype": "text/x-python",
   "name": "python",
   "nbconvert_exporter": "python",
   "pygments_lexer": "ipython3",
   "version": "3.10.9"
  }
 },
 "nbformat": 4,
 "nbformat_minor": 5
}
