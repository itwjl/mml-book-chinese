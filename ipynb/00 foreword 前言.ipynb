{
 "cells": [
  {
   "cell_type": "markdown",
   "id": "534e7246",
   "metadata": {},
   "source": [
    "<center>Foreword</center>\n",
    "<center>前言</center>"
   ]
  },
  {
   "cell_type": "markdown",
   "id": "a5e37b9b",
   "metadata": {},
   "source": [
    "Machine learning is the latest in a long line of attempts to distill human knowledge and reasoning into a form that is suitable for constructing machines and engineering automated systems. As machine learning becomes more ubiquitous and its software packages become easier to use, it is natural and desirable that the low-level technical details are abstracted away ad hidden from the practitioner. However, this brings with it the danger that a practitioner becomes unaware of the design decisions and, hence, the limits of machine learning algorithms."
   ]
  },
  {
   "cell_type": "markdown",
   "id": "9487a6ad",
   "metadata": {},
   "source": [
    "机器学习是将人类知识和推理提炼成合适构建机器和工程自动化系统的形式的长期尝试中的最新成果。随着机器学习变得越来越普遍，其软件包也越来越易于使用，低级技术细节被抽象出来并向从业者隐藏起来是自然而可取的。然而，这带来了从业者不知道设计决策的危险，因此，也不知道机器学习算法的局限性。"
   ]
  },
  {
   "cell_type": "markdown",
   "id": "b68ec06b",
   "metadata": {},
   "source": [
    "The enthusiastic practitioner who is interested to learn more about the magic behind successful machine learning algorithms currently faces a daunting set of pre-requisite knowledge:\n",
    "  - Programming laguages and data analysis tools\n",
    "  - Large-scale computation and the associated frameworks\n",
    "  - Mathematics and statistics and how machine learning build on it"
   ]
  },
  {
   "cell_type": "markdown",
   "id": "5b53354d",
   "metadata": {},
   "source": [
    "有兴趣了解更多关于成功的机器学习算法背后的魔力的热心从业者目前面临着一组令人生畏的先决知识：\n",
    "  - 编程语言和数据分析工具\n",
    "  - 大规模计算及相关框架\n",
    "  - 数学和统计学以及机器学习如何建立在它的基础上"
   ]
  },
  {
   "cell_type": "markdown",
   "id": "d77ffd2d",
   "metadata": {},
   "source": [
    "At universities, introductory courses on machine learning tend to spend early parts of the course covering some of these pre-requisites. For historical reasons, course in machine learning tend to be taught in the computer science department, there students are often trained in the first two areas of knowledge, but not so much in mathematics and statistics."
   ]
  },
  {
   "cell_type": "markdown",
   "id": "9bf5cd63",
   "metadata": {},
   "source": [
    "在大学里，机器学习的入门课程往往会在课程的早期部分涵盖其中一些先决条件。由于历史原因，机器学习课程往往在计算机科学系教授，学生通常在前两个知识领域接受培训，但在数学和统计学方面的培训较少。"
   ]
  },
  {
   "cell_type": "markdown",
   "id": "eeedeee1",
   "metadata": {},
   "source": []
  },
  {
   "cell_type": "markdown",
   "id": "f95042cf",
   "metadata": {},
   "source": []
  },
  {
   "cell_type": "markdown",
   "id": "6b9bdbd7",
   "metadata": {},
   "source": []
  },
  {
   "cell_type": "markdown",
   "id": "a8f49ace",
   "metadata": {},
   "source": []
  },
  {
   "cell_type": "markdown",
   "id": "6135a73a",
   "metadata": {},
   "source": []
  },
  {
   "cell_type": "markdown",
   "id": "be944336",
   "metadata": {},
   "source": []
  },
  {
   "cell_type": "markdown",
   "id": "46dc85e7",
   "metadata": {},
   "source": []
  },
  {
   "cell_type": "markdown",
   "id": "90121790",
   "metadata": {},
   "source": []
  }
 ],
 "metadata": {
  "kernelspec": {
   "display_name": "Python 3 (ipykernel)",
   "language": "python",
   "name": "python3"
  },
  "language_info": {
   "codemirror_mode": {
    "name": "ipython",
    "version": 3
   },
   "file_extension": ".py",
   "mimetype": "text/x-python",
   "name": "python",
   "nbconvert_exporter": "python",
   "pygments_lexer": "ipython3",
   "version": "3.10.9"
  }
 },
 "nbformat": 4,
 "nbformat_minor": 5
}
